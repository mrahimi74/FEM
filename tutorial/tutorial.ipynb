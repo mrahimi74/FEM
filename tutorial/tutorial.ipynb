{
 "cells": [
  {
   "cell_type": "code",
   "execution_count": 9,
   "id": "d6061e13-4616-4cad-89c5-84a40248c750",
   "metadata": {},
   "outputs": [],
   "source": [
    "from FEM import fem\n",
    "import numpy as np"
   ]
  },
  {
   "cell_type": "markdown",
   "id": "47efecbb-492c-4f07-8c53-a043c83bb2b6",
   "metadata": {},
   "source": [
    "Example1"
   ]
  },
  {
   "cell_type": "code",
   "execution_count": null,
   "id": "ad6e9506-5fa6-4968-b6bf-ddf9a1cd6ac7",
   "metadata": {},
   "outputs": [],
   "source": [
    "#Defining the node properties, coordinates, BCs and loads, respectively.\n",
    "\n",
    "n0 = fem.Node(np.array([0,0,10]), np.array([True,True,True,True,True,True]), np.zeros(6), 0)\n",
    "n1 = fem.Node(np.array([15,0,10]), np.array([False,False,False,False,False,False]), np.array([-0.05, 0.075, 0.1, -0.05, 0.1, -0.25]), 1)\n",
    "n2 = fem.Node(np.array([15,0,0]), np.array([True,True,True,False,False,False]), np.zeros(6), 2)\n",
    "\n",
    "#Getting the coordinates, BCs, loads and id of every node.\n",
    "\n",
    "c0, bc0, load0, id0 = n0.nodal_info()\n",
    "c1, bc1, load1, id1 = n1.nodal_info()\n",
    "c2, bc2, load2, id2 = n2.nodal_info()\n",
    "\n",
    "#Mechanical properties of the elements\n",
    "\n",
    "E = 1000\n",
    "nu = 0.3\n",
    "A = 0.5\n",
    "Iy = .5**3/12\n",
    "Iz = .5/12\n",
    "J = .02861\n",
    "v_temp1 = np.array([0,0,1])\n",
    "v_temp2 = np.array([1,0,0])\n",
    "\n",
    "#Defining the elements required to solve the problem.\n",
    "\n",
    "E1 = fem.Element(E, nu, A, Iy, Iz, J, c0, c1, [id0, id1], v_temp1)\n",
    "E2 = fem.Element(E, nu, A, Iy, Iz, J, c1, c2, [id1, id2], v_temp2)\n",
    "\n",
    "#Getting the stifness matrix and the number of each element.\n",
    "\n",
    "k1, id1 = E1.el_info()\n",
    "k2, id2 = E2.el_info()\n",
    "\n",
    "#Making arrays that take stiffness matrices of elements, boundary conditions of all nodes, loading conditions of nodes and an id array that takes the id of nodes in the element.\n",
    "\n",
    "K_elements = [k1, k2]\n",
    "bc_elements = [bc0, bc1, bc2]\n",
    "load_elements = [load0, load1, load2]\n",
    "id = [id1, id2]\n",
    "\n",
    "#Solving the problem.\n",
    "\n",
    "num_nodes = 3\n",
    "DoF_per_node = 6\n",
    "\n",
    "Q = fem.Fem(num_nodes, DoF_per_node, K_elements, bc_elements, load_elements, id)\n",
    "K, BC, F = Q.fem_info()\n",
    "\n",
    "u, f = fem.solver(3, 6, K, BC, F).solve()\n",
    "\n",
    "print(u)\n",
    "print(f)"
   ]
  },
  {
   "cell_type": "markdown",
   "id": "5c566e9e-2afa-4b1e-84b0-a1ca44c57267",
   "metadata": {},
   "source": [
    "Example2"
   ]
  },
  {
   "cell_type": "code",
   "execution_count": null,
   "id": "0b0be735-c11a-46ab-b1ff-597de05d2852",
   "metadata": {},
   "outputs": [],
   "source": [
    "n0 = fem.Node(np.array([0,0,0]), np.array([False,False,True,False,False,False]), np.zeros(6), 0)\n",
    "n1 = fem.Node(np.array([-5,1,10]), np.array([False,False,False,False,False,False]), np.array([0.05, 0.05, -0.1, 0, 0, 0]), 1)\n",
    "n2 = fem.Node(np.array([-1,5,13]), np.array([False,False,False,False,False,False]), np.array([0,0,0,-0.1,-0.1,0.3]), 2)\n",
    "n3 = fem.Node(np.array([-3,7,11]), np.array([True,True,True,True,True,True]), np.zeros(6), 3)\n",
    "n4 = fem.Node(np.array([6,9,5]), np.array([True,True,True,False,False,False]), np.zeros(6), 4)\n",
    "\n",
    "\n",
    "c0, bc0, load0, id0 = n0.nodal_info()\n",
    "c1, bc1, load1, id1 = n1.nodal_info()\n",
    "c2, bc2, load2, id2 = n2.nodal_info()\n",
    "c3, bc3, load3, id3 = n3.nodal_info()\n",
    "c4, bc4, load4, id4 = n4.nodal_info()\n",
    "\n",
    "\n",
    "E = 500\n",
    "nu = 0.3\n",
    "A = np.pi\n",
    "Iy = np.pi/4\n",
    "Iz = np.pi/4\n",
    "J = np.pi/2\n",
    "v_temp = np.array([0,0,1])\n",
    "\n",
    "E1 = fem.Element(E, nu, A, Iy, Iz, J, c0, c1, [id0, id1], v_temp)\n",
    "E2 = fem.Element(E, nu, A, Iy, Iz, J, c1, c2, [id1, id2], v_temp)\n",
    "E3 = fem.Element(E, nu, A, Iy, Iz, J, c3, c2, [id3, id2], v_temp)\n",
    "E4 = fem.Element(E, nu, A, Iy, Iz, J, c2, c4, [id2, id4], v_temp)\n",
    "\n",
    "\n",
    "k1, id1 = E1.el_info()\n",
    "k2, id2 = E2.el_info()\n",
    "k3, id3 = E3.el_info()\n",
    "k4, id4 = E4.el_info()\n",
    "\n",
    "K_elements = [k1, k2, k3, k4]\n",
    "bc_elements = [bc0, bc1, bc2, bc3, bc4]\n",
    "load_elements = [load0, load1, load2, load3, load4]\n",
    "id = [id1, id2, id3, id4]\n",
    "\n",
    "Q = fem.Fem(5, 6, K_elements, bc_elements, load_elements, id)\n",
    "K, BC, F = Q.fem_info()\n",
    "\n",
    "u, f = fem.solver(5, 6, K, BC, F).solve()\n",
    "\n",
    "print(u)\n",
    "print(f)"
   ]
  }
 ],
 "metadata": {
  "kernelspec": {
   "display_name": "Python 3 (ipykernel)",
   "language": "python",
   "name": "python3"
  },
  "language_info": {
   "codemirror_mode": {
    "name": "ipython",
    "version": 3
   },
   "file_extension": ".py",
   "mimetype": "text/x-python",
   "name": "python",
   "nbconvert_exporter": "python",
   "pygments_lexer": "ipython3",
   "version": "3.12.4"
  }
 },
 "nbformat": 4,
 "nbformat_minor": 5
}
